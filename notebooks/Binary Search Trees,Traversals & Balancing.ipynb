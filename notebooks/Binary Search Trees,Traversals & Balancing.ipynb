{
 "cells": [
  {
   "cell_type": "markdown",
   "id": "b8d2c36f-2700-4ead-8e85-6f1a99d1e021",
   "metadata": {},
   "source": [
    "# Binary Search Trees, Traversals and Balancing in Python"
   ]
  },
  {
   "cell_type": "markdown",
   "id": "0fb15097-d81f-4fef-85e0-17e1e073422a",
   "metadata": {},
   "source": [
    "## Problem \n",
    "\n",
    "    Question 1: \n",
    "    As a senior backend engineer, you are tasked with developing a fast in-memory data structure to manage profile information (username , name and email) for 100 million users. it should allow the followring operations to be performed efficiently:\n",
    "    1. Insert the profile information for a new user.\n",
    "    2. Find the profile information of a user, givien their username\n",
    "    3. Update the profile information of a user, given their username\n",
    "    4. List all the users of the platform, sorted by username\n",
    "    you can assume that usernames are unique."
   ]
  },
  {
   "cell_type": "code",
   "execution_count": 20,
   "id": "fd4a9230-515f-4abf-8cea-75ed0a243d55",
   "metadata": {},
   "outputs": [],
   "source": [
    "class User:\n",
    "    def __init__ (self , username , name , email):\n",
    "        self.username = username\n",
    "        self.name = name\n",
    "        self.email = email\n",
    "        print(\"User Created\")\n",
    "    def introduce_yourself(self,guest_name):\n",
    "        print(\"hi {} , I,m {} ! Contact me at {}.\" .format(guest_name, self.name, self.email))"
   ]
  },
  {
   "cell_type": "code",
   "execution_count": 21,
   "id": "3747459d-1e07-43e6-b4cc-e64371902567",
   "metadata": {},
   "outputs": [
    {
     "name": "stdout",
     "output_type": "stream",
     "text": [
      "User Created\n"
     ]
    }
   ],
   "source": [
    "user1 = User('john','john doe' , 'john@doe.com')"
   ]
  },
  {
   "cell_type": "code",
   "execution_count": 22,
   "id": "f57187d9-a050-4ea7-a01f-369b1b3a70d2",
   "metadata": {},
   "outputs": [
    {
     "data": {
      "text/plain": [
       "<__main__.User at 0x7f8eac207e00>"
      ]
     },
     "execution_count": 22,
     "metadata": {},
     "output_type": "execute_result"
    }
   ],
   "source": [
    "user1"
   ]
  },
  {
   "cell_type": "code",
   "execution_count": 24,
   "id": "79d4d0e0-a474-4650-8901-53d61a284788",
   "metadata": {},
   "outputs": [
    {
     "name": "stdout",
     "output_type": "stream",
     "text": [
      "User Created\n"
     ]
    }
   ],
   "source": [
    "user2 = User('jane','jane doe', 'jane@doe.com') "
   ]
  },
  {
   "cell_type": "code",
   "execution_count": 25,
   "id": "82896fbc-182f-40f7-9a01-6bc75048fb56",
   "metadata": {},
   "outputs": [
    {
     "name": "stdout",
     "output_type": "stream",
     "text": [
      "hi david , I,m jane doe ! Contact me at jane@doe.com.\n"
     ]
    }
   ],
   "source": [
    "user2.introduce_yourself(\"david\")"
   ]
  },
  {
   "cell_type": "code",
   "execution_count": 28,
   "id": "c509a51d-c0e9-4606-8b41-d5a626f50058",
   "metadata": {},
   "outputs": [],
   "source": [
    "class User:\n",
    "    def __init__ (self , username , name , email):\n",
    "        self.username = username\n",
    "        self.name = name\n",
    "        self.email = email\n",
    "\n",
    "    def __repr__(self):\n",
    "        return \"User(username='{}', name='{}', email='{}')\".format(self.username, self.name, self.email)\n",
    "    def __str__(self):\n",
    "        return self.__repr__()"
   ]
  },
  {
   "cell_type": "code",
   "execution_count": 31,
   "id": "251f2983-332e-452b-995d-4a8c620d4616",
   "metadata": {},
   "outputs": [],
   "source": [
    "user4 = User('abhi', 'abhishek' , 'abhi590@gmail.com')"
   ]
  },
  {
   "cell_type": "code",
   "execution_count": 33,
   "id": "b4e1e762-e4ca-4a3f-abd1-b8c471490ba2",
   "metadata": {},
   "outputs": [
    {
     "data": {
      "text/plain": [
       "User(username='abhi', name='abhishek', email='abhi590@gmail.com')"
      ]
     },
     "execution_count": 33,
     "metadata": {},
     "output_type": "execute_result"
    }
   ],
   "source": [
    "user4"
   ]
  },
  {
   "cell_type": "markdown",
   "id": "da794553-d24f-48c7-bf6a-926bfe17fd89",
   "metadata": {},
   "source": [
    "### Outpur Format "
   ]
  },
  {
   "cell_type": "code",
   "execution_count": 35,
   "id": "02971df7-4580-4993-8b79-12db8645cdb6",
   "metadata": {},
   "outputs": [],
   "source": [
    "class UserDatabase:\n",
    "    def insert(seld, user):\n",
    "        pass\n",
    "    def find(self, username):\n",
    "        pass\n",
    "    def update(self, user):\n",
    "        pass\n",
    "    def list_all(self):\n",
    "        pass"
   ]
  },
  {
   "cell_type": "markdown",
   "id": "00141436-6a92-4266-ae1a-bc8928bddc9e",
   "metadata": {},
   "source": [
    "### 2. Come up with some Example input and outputs"
   ]
  },
  {
   "cell_type": "code",
   "execution_count": null,
   "id": "f6c37c47-163c-4def-a7bb-a710de9ede9b",
   "metadata": {},
   "outputs": [],
   "source": [
    "aakash = User('aakash', 'Aakash Rai', 'aakash@example.com')\n"
   ]
  }
 ],
 "metadata": {
  "kernelspec": {
   "display_name": "Python 3 (ipykernel)",
   "language": "python",
   "name": "python3"
  },
  "language_info": {
   "codemirror_mode": {
    "name": "ipython",
    "version": 3
   },
   "file_extension": ".py",
   "mimetype": "text/x-python",
   "name": "python",
   "nbconvert_exporter": "python",
   "pygments_lexer": "ipython3",
   "version": "3.13.3"
  }
 },
 "nbformat": 4,
 "nbformat_minor": 5
}
