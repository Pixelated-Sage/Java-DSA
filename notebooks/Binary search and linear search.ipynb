{
 "cells": [
  {
   "cell_type": "code",
   "execution_count": 1,
   "id": "24a341d4-b9c6-439c-9de2-8ecb100b295c",
   "metadata": {},
   "outputs": [],
   "source": [
    "def locate_card(cards, query):\n",
    "    #create a variable position it with the value 0\n",
    "    position = 0\n",
    "\n",
    "    # Set up a loop for repetition\n",
    "    while position < len(cards):\n",
    "        # Check it element at the current position match the query\n",
    "        if cards[position] == query:\n",
    "            return position\n",
    "        #increment the position\n",
    "        position += 1\n",
    "    return -1\n",
    "        "
   ]
  },
  {
   "cell_type": "code",
   "execution_count": 8,
   "id": "76da01e9-41ed-4e18-a9ba-2e6b0c0b8d43",
   "metadata": {},
   "outputs": [],
   "source": [
    "def test_location(cards, query, mid):\n",
    "    if cards[mid] == query:\n",
    "        if mid-1 >= 0 and cards[mid-1] == query:\n",
    "            return 'left'\n",
    "        else:\n",
    "            return 'found'\n",
    "    elif cards[mid] < query:\n",
    "        return 'left'\n",
    "    else:\n",
    "        return 'right'\n",
    "\n",
    "def binary_search(cards, query):\n",
    "    lo, hi = 0, len(cards) - 1\n",
    "    while lo <= hi:\n",
    "        mid = (lo + hi) // 2\n",
    "        result = test_location(cards, query, mid)\n",
    "        if result == 'found':\n",
    "            return mid\n",
    "        elif result == 'left':\n",
    "            hi = mid - 1\n",
    "        elif result == 'right':\n",
    "            lo = mid + 1\n",
    "    return -1"
   ]
  },
  {
   "cell_type": "code",
   "execution_count": 3,
   "id": "7cf2dad4-5bf1-410b-aaef-aca978ed619d",
   "metadata": {},
   "outputs": [],
   "source": [
    "\n",
    "tests = [\n",
    "    {'input': {'cards': [13, 11, 10, 7, 4, 3, 1, 0], 'query': 7}, 'output': 3},\n",
    "    {'input': {'cards': [13, 11, 10, 7, 4, 3, 1, 0], 'query': 7}, 'output': 3},\n",
    "    {'input': {'cards': [13, 11, 10, 7, 4, 3, 1, 0], 'query': 1}, 'output': 6},\n",
    "    {'input': {'cards': [4, 2, 1, -1], 'query': 4}, 'output': 0},\n",
    "    {'input': {'cards': [3, -1, -9, -127], 'query': -127}, 'output': 3},\n",
    "    {'input': {'cards': [6], 'query': 6}, 'output': 0},\n",
    "    {'input': {'cards': [9, 7, 5, 2, -9], 'query': 4}, 'output': -1},\n",
    "    {'input': {'cards': [], 'query': 7}, 'output': -1},\n",
    "    {'input': {'cards': [8, 8, 6, 6, 6, 6, 6, 3, 2, 2, 2, 0, 0, 0], 'query': 3},\n",
    "     'output': 7},\n",
    "    {'input': {'cards': [8, 8, 6, 6, 6, 6, 6, 6, 3, 2, 2, 2, 0, 0, 0],\n",
    "     'query': 6},\n",
    "     'output': 2}\n",
    "]\n"
   ]
  },
  {
   "cell_type": "code",
   "execution_count": 4,
   "id": "2a0da627-ca4a-49f8-bdcc-57467c107090",
   "metadata": {},
   "outputs": [
    {
     "name": "stdout",
     "output_type": "stream",
     "text": [
      "6.5\n"
     ]
    }
   ],
   "source": [
    "print((8+5)/2)"
   ]
  },
  {
   "cell_type": "code",
   "execution_count": null,
   "id": "74a3fee2-a404-4b7d-a377-ed86c2006726",
   "metadata": {},
   "outputs": [],
   "source": [
    "for i, test_case in enumerate(tests):\n",
    "    expected_output = test_case['output']\n",
    "    print(f\"Test Case {i} : \")\n",
    "    print(f\"  Input : {test_case['input']}\")\n",
    "    print(f\"  Expected Output : {expected_output}\")\n",
    "    result1 = binary_search(**test_case['input'])\n",
    "    print(f\"  Actual Result : {result1}\")\n",
    "    if result1 == expected_output:\n",
    "        print(\"   Status : PASSES\")\n",
    "    else :\n",
    "        print(\"   Status : FAILED\")\n",
    "    print(\"-\" * 30)"
   ]
  },
  {
   "cell_type": "code",
   "execution_count": 12,
   "id": "91b925d6-4224-4169-aca5-209f3fd56e04",
   "metadata": {},
   "outputs": [],
   "source": [
    "def first_position(nums, target):\n",
    "    def condition(mid):\n",
    "        if nums[mid] == target:\n",
    "            if mid > 0 and nums[mid-1] == target:\n",
    "                return 'left'\n",
    "            return 'found'\n",
    "        elif nums[mid] < target:\n",
    "            return 'right'\n",
    "        else:\n",
    "            return 'left'\n",
    "    return binary_search(0, len(nums)-1, condition)\n",
    "\n",
    "def last_position(nums, target):\n",
    "    def condition(mid):\n",
    "        if nums[mid] == target:\n",
    "            if mid < len(nums)-1 and nums[mid+1] == target:\n",
    "                return 'right'\n",
    "            return 'found'\n",
    "        elif nums[mid] < target:\n",
    "            return 'right'\n",
    "        else:\n",
    "            return 'left'\n",
    "    return binary_search(0, len(nums)-1, condition)\n",
    "\n",
    "def first_and_last_position(nums, target):\n",
    "    return first_position(nums, target), last_position(nums, target)"
   ]
  }
 ],
 "metadata": {
  "kernelspec": {
   "display_name": "Python 3 (ipykernel)",
   "language": "python",
   "name": "python3"
  },
  "language_info": {
   "codemirror_mode": {
    "name": "ipython",
    "version": 3
   },
   "file_extension": ".py",
   "mimetype": "text/x-python",
   "name": "python",
   "nbconvert_exporter": "python",
   "pygments_lexer": "ipython3",
   "version": "3.13.3"
  }
 },
 "nbformat": 4,
 "nbformat_minor": 5
}
